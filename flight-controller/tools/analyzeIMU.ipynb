{
 "cells": [
  {
   "cell_type": "code",
   "execution_count": null,
   "metadata": {},
   "outputs": [],
   "source": [
    "from pymavlink import mavutil\n",
    "import pandas as pd\n",
    "import numpy as np\n",
    "\n",
    "imuConnection = mavutil.mavlink_connection('COM12', baud=115200)\n",
    "imuData = []\n",
    "\n",
    "while len(imuData) < 200:\n",
    "    msg = imuConnection.recv_match(type='HIGHRES_IMU')\n",
    "    if msg is not None:\n",
    "        imuData.append(msg.to_dict())\n",
    "\n",
    "imuConnection.close()"
   ]
  },
  {
   "cell_type": "code",
   "execution_count": null,
   "metadata": {},
   "outputs": [],
   "source": [
    "from scipy.fft import fft, fftfreq\n",
    "imuData = pd.DataFrame(imuData)\n",
    "\n",
    "N = len(imuData['xgyro'])\n",
    "xfft = fft(imuData['xgyro'].values)[:N//2]\n",
    "yfft = fft(imuData['ygyro'].values)[:N//2]\n",
    "zfft = fft(imuData['zgyro'].values)[:N//2]\n",
    "fftFreq = fftfreq(len(imuData['xgyro']), 1 / 225)[:N//2]\n",
    "\n",
    "import matplotlib.pyplot as plt\n",
    "plt.plot(fftFreq, 2.0/N * np.abs(xfft), label='X')\n",
    "plt.plot(fftFreq, 2.0/N * np.abs(yfft), label='Y')\n",
    "plt.plot(fftFreq, 2.0/N * np.abs(zfft), label='Z')\n",
    "plt.grid()\n",
    "plt.show()"
   ]
  },
  {
   "cell_type": "code",
   "execution_count": null,
   "metadata": {},
   "outputs": [],
   "source": [
    "print((np.var(imuData['xgyro'].values)),\n",
    "      (np.nanmean(imuData['xgyro'].values)))\n",
    "print((np.var(imuData['ygyro'].values)),\n",
    "      (np.nanmean(imuData['ygyro'].values)))\n",
    "print((np.var(imuData['zgyro'].values)),\n",
    "      (np.nanmean(imuData['zgyro'].values)))"
   ]
  }
 ],
 "metadata": {
  "kernelspec": {
   "display_name": "Python 3",
   "language": "python",
   "name": "python3"
  },
  "language_info": {
   "codemirror_mode": {
    "name": "ipython",
    "version": 3
   },
   "file_extension": ".py",
   "mimetype": "text/x-python",
   "name": "python",
   "nbconvert_exporter": "python",
   "pygments_lexer": "ipython3",
   "version": "3.10.5"
  }
 },
 "nbformat": 4,
 "nbformat_minor": 2
}
